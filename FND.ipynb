{
 "cells": [
  {
   "cell_type": "code",
   "execution_count": null,
   "metadata": {
    "colab": {
     "base_uri": "https://localhost:8080/"
    },
    "executionInfo": {
     "elapsed": 34279,
     "status": "ok",
     "timestamp": 1680535271849,
     "user": {
      "displayName": "Dhruv Vaidh",
      "userId": "01322376143925324325"
     },
     "user_tz": -330
    },
    "id": "E8jOrIUIR4pR",
    "outputId": "613d345f-9941-46e1-d0cc-50cef626e927"
   },
   "outputs": [],
   "source": [
    "from google.colab import drive\n",
    "drive.mount('/content/drive')"
   ]
  },
  {
   "cell_type": "code",
   "execution_count": null,
   "metadata": {
    "colab": {
     "base_uri": "https://localhost:8080/"
    },
    "executionInfo": {
     "elapsed": 1086,
     "status": "ok",
     "timestamp": 1679570203615,
     "user": {
      "displayName": "Dhruv Vaidh",
      "userId": "01322376143925324325"
     },
     "user_tz": -330
    },
    "id": "Iyi9ky8Z1buH",
    "outputId": "c3dac7f2-2db0-412e-d13d-2cfc64b2472c"
   },
   "outputs": [],
   "source": [
    "!nvidia-smi"
   ]
  },
  {
   "cell_type": "markdown",
   "metadata": {
    "id": "iPdUTHtDFYHd"
   },
   "source": [
    "# Setup and Config"
   ]
  },
  {
   "cell_type": "code",
   "execution_count": null,
   "metadata": {
    "colab": {
     "base_uri": "https://localhost:8080/"
    },
    "id": "BbJsIvL0rCaE",
    "outputId": "e9270fda-2a53-4154-a731-5633a146617e"
   },
   "outputs": [],
   "source": [
    "# Requirements\n",
    "!pip install nltk\n",
    "!pip install transformers\n",
    "!pip install shutup\n",
    "!pip install pytorch-lightning\n",
    "!pip install torchMetrics\n",
    "!pip install langdetect"
   ]
  },
  {
   "cell_type": "code",
   "execution_count": null,
   "metadata": {
    "colab": {
     "base_uri": "https://localhost:8080/"
    },
    "executionInfo": {
     "elapsed": 3803,
     "status": "ok",
     "timestamp": 1679828350225,
     "user": {
      "displayName": "Dhruv Vaidh",
      "userId": "01322376143925324325"
     },
     "user_tz": -330
    },
    "id": "h5GXB5EFqS7b",
    "outputId": "6ca48a8b-110b-4302-a38b-314c8cd3b023"
   },
   "outputs": [],
   "source": [
    "import numpy as np\n",
    "import pandas as pd\n",
    "import re\n",
    "import nltk\n",
    "import torch\n",
    "import torch.nn as nn\n",
    "import pytorch_lightning as pl\n",
    "import seaborn as sns\n",
    "import matplotlib.pyplot as plt\n",
    "import pickle\n",
    "from torch.utils.data import Dataset, DataLoader, random_split\n",
    "from pylab import rcParams\n",
    "from tqdm.auto import tqdm\n",
    "from transformers import BertTokenizer, AdamW, get_linear_schedule_with_warmup\n",
    "#from torchmetrics.functional import f1, accuracy\n",
    "from pytorch_lightning.callbacks import ModelCheckpoint, EarlyStopping\n",
    "from pytorch_lightning.loggers import TensorBoardLogger\n",
    "from sklearn.model_selection import train_test_split\n",
    "from sklearn.metrics import classification_report, multilabel_confusion_matrix\n",
    "from matplotlib import rc\n",
    "\n",
    "RANDOM_SEED = 42\n",
    "\n",
    "np.random.seed(RANDOM_SEED)\n",
    "torch.manual_seed(RANDOM_SEED)\n",
    "pl.seed_everything(RANDOM_SEED)"
   ]
  },
  {
   "cell_type": "code",
   "execution_count": null,
   "metadata": {
    "colab": {
     "base_uri": "https://localhost:8080/"
    },
    "executionInfo": {
     "elapsed": 14,
     "status": "ok",
     "timestamp": 1679828350225,
     "user": {
      "displayName": "Dhruv Vaidh",
      "userId": "01322376143925324325"
     },
     "user_tz": -330
    },
    "id": "ButE4L9f2e11",
    "outputId": "17cfecef-d300-43f3-a30a-a097452ed703"
   },
   "outputs": [],
   "source": [
    "device = torch.device('cuda' if torch.cuda.is_available() else 'cpu')\n",
    "device"
   ]
  },
  {
   "cell_type": "markdown",
   "metadata": {
    "id": "wqE5IC8r6rIR"
   },
   "source": [
    "# Text"
   ]
  },
  {
   "cell_type": "code",
   "execution_count": null,
   "metadata": {
    "colab": {
     "base_uri": "https://localhost:8080/"
    },
    "executionInfo": {
     "elapsed": 13,
     "status": "ok",
     "timestamp": 1679828350226,
     "user": {
      "displayName": "Dhruv Vaidh",
      "userId": "01322376143925324325"
     },
     "user_tz": -330
    },
    "id": "HhE-EHPH5W3C",
    "outputId": "5ee3cd64-81d1-4471-9e6e-65c9152149e6"
   },
   "outputs": [],
   "source": [
    "nltk.download('punkt') "
   ]
  },
  {
   "cell_type": "code",
   "execution_count": null,
   "metadata": {
    "id": "dDV9gfCE2_RO"
   },
   "outputs": [],
   "source": [
    "import pandas as pd\n",
    "train_df = pd.read_csv('/content/drive/MyDrive/Datasets/tweets.txt', sep='\\t', header=0)\n",
    "test_df = pd.read_csv('/content/drive/MyDrive/Datasets/tweets-test.txt', sep='\\t', header=0)"
   ]
  },
  {
   "cell_type": "code",
   "execution_count": null,
   "metadata": {
    "id": "BroInXS5K1_f"
   },
   "outputs": [],
   "source": [
    "# df_train, df_val = train_test_split(df, test_size=0.15)"
   ]
  },
  {
   "cell_type": "code",
   "execution_count": null,
   "metadata": {
    "colab": {
     "base_uri": "https://localhost:8080/",
     "height": 206
    },
    "executionInfo": {
     "elapsed": 12,
     "status": "ok",
     "timestamp": 1679570256894,
     "user": {
      "displayName": "Dhruv Vaidh",
      "userId": "01322376143925324325"
     },
     "user_tz": -330
    },
    "id": "JgLGIXk_L62a",
    "outputId": "f24828a8-382c-48cd-ae7e-10ce408abbcc"
   },
   "outputs": [],
   "source": [
    "train_df.head()"
   ]
  },
  {
   "cell_type": "code",
   "execution_count": null,
   "metadata": {
    "colab": {
     "base_uri": "https://localhost:8080/",
     "height": 206
    },
    "executionInfo": {
     "elapsed": 11,
     "status": "ok",
     "timestamp": 1679570256894,
     "user": {
      "displayName": "Dhruv Vaidh",
      "userId": "01322376143925324325"
     },
     "user_tz": -330
    },
    "id": "uYXgl1j3Lr9O",
    "outputId": "00172474-f1fb-4357-9562-71e67d4fca73"
   },
   "outputs": [],
   "source": [
    "test_df.head()"
   ]
  },
  {
   "cell_type": "code",
   "execution_count": null,
   "metadata": {
    "colab": {
     "base_uri": "https://localhost:8080/",
     "height": 297
    },
    "executionInfo": {
     "elapsed": 11,
     "status": "ok",
     "timestamp": 1679570256894,
     "user": {
      "displayName": "Dhruv Vaidh",
      "userId": "01322376143925324325"
     },
     "user_tz": -330
    },
    "id": "RTKRU3zkWkeH",
    "outputId": "25ea4816-8cca-4d5b-aec4-39f743c871f4"
   },
   "outputs": [],
   "source": [
    "train_df.label.value_counts().plot(kind='bar')\n",
    "plt.tight_layout()"
   ]
  },
  {
   "cell_type": "code",
   "execution_count": null,
   "metadata": {
    "id": "GgjL6MfpSahf"
   },
   "outputs": [],
   "source": [
    "train_df.loc[(train_df.label == 'humor'),'label'] = 'fake'"
   ]
  },
  {
   "cell_type": "code",
   "execution_count": null,
   "metadata": {
    "colab": {
     "base_uri": "https://localhost:8080/",
     "height": 297
    },
    "executionInfo": {
     "elapsed": 1486,
     "status": "ok",
     "timestamp": 1679570258370,
     "user": {
      "displayName": "Dhruv Vaidh",
      "userId": "01322376143925324325"
     },
     "user_tz": -330
    },
    "id": "GcSQbeTVWrgq",
    "outputId": "bf087abd-9f33-4911-dcae-ddd163f6b34b"
   },
   "outputs": [],
   "source": [
    "train_df.label.value_counts().plot(kind='bar')\n",
    "plt.tight_layout()"
   ]
  },
  {
   "cell_type": "code",
   "execution_count": null,
   "metadata": {
    "colab": {
     "base_uri": "https://localhost:8080/",
     "height": 297
    },
    "executionInfo": {
     "elapsed": 6,
     "status": "ok",
     "timestamp": 1679570258371,
     "user": {
      "displayName": "Dhruv Vaidh",
      "userId": "01322376143925324325"
     },
     "user_tz": -330
    },
    "id": "4VRzIrlMWpQy",
    "outputId": "0a94eabd-f39d-4830-87b6-bb91ccf20d94"
   },
   "outputs": [],
   "source": [
    "test_df.label.value_counts().plot(kind='bar')\n",
    "plt.tight_layout()"
   ]
  },
  {
   "cell_type": "code",
   "execution_count": null,
   "metadata": {
    "colab": {
     "base_uri": "https://localhost:8080/",
     "height": 1000
    },
    "executionInfo": {
     "elapsed": 82861,
     "status": "ok",
     "timestamp": 1679570341227,
     "user": {
      "displayName": "Dhruv Vaidh",
      "userId": "01322376143925324325"
     },
     "user_tz": -330
    },
    "id": "U3MPmToWKfCP",
    "outputId": "3770bde2-1e8f-4186-c315-e1144d5773f0"
   },
   "outputs": [],
   "source": [
    "from langdetect import detect\n",
    "def lang_detect(text):\n",
    "    try:\n",
    "        detected_text = detect(text)\n",
    "        return detected_text\n",
    "    except:\n",
    "        return \"unkown\"\n",
    "training_languages_count = train_df['tweetText'].apply(lambda x: lang_detect(x))\n",
    "print('languages of training dataset:\\n', training_languages_count.value_counts())\n",
    "\n",
    "# Plot a bar chart of the frequencies\n",
    "training_languages_count.value_counts().plot(kind='bar')\n",
    "plt.tight_layout()"
   ]
  },
  {
   "cell_type": "markdown",
   "metadata": {
    "id": "VCJUuUaNnqGK"
   },
   "source": [
    "Preprocessing the text"
   ]
  },
  {
   "cell_type": "code",
   "execution_count": null,
   "metadata": {
    "id": "0s8yrlGZMp0G"
   },
   "outputs": [],
   "source": [
    "train_df.drop(labels=['tweetId','userId', 'username', 'timestamp'], axis = 'columns', inplace = True)\n",
    "test_df.drop(labels=['tweetId','userId', 'username', 'timestamp'], axis = 'columns', inplace = True)\n",
    "train_df.rename(columns = {\"imageId(s)\":\"images\"}, inplace = True)\n",
    "test_df.rename(columns = {\"imageId(s)\":\"images\"}, inplace = True)"
   ]
  },
  {
   "cell_type": "code",
   "execution_count": null,
   "metadata": {
    "id": "YdnOBvCDH00C"
   },
   "outputs": [],
   "source": [
    "# We are only operating on photos GIFs and videos are for the later reviews\n",
    "test_df.drop(test_df[test_df.images ==\"syrian_boy_video\"].index, inplace = True)\n",
    "test_df.drop(test_df[test_df.images ==\"varoufakis_video\"].index, inplace = True)\n",
    "test_df.drop(test_df[test_df.images ==\"eclipse_video_01 \"].index, inplace = True)\n",
    "\n",
    "\n",
    "#Minor FIxes in the data as these files didn't exist in the dataset\n",
    "train_df.replace({'images': {'sandyB_real_4': 'sandyB_real_04'}}, inplace = True)\n",
    "train_df.replace({'images': {'sandyB_real_6': 'sandyB_real_60'}}, inplace = True)\n",
    "train_df.drop(train_df[train_df.images ==\"boston_fake_35\"].index, inplace = True)\n",
    "train_df.drop(train_df[train_df.images ==\"boston_fake_10\"].index, inplace = True)\n",
    "train_df.drop(train_df[train_df.images ==\"boston_real_05\"].index, inplace = True)\n",
    "train_df.drop(train_df[train_df.images ==\"sochi_fake_1fake\"].index, inplace = True)"
   ]
  },
  {
   "cell_type": "code",
   "execution_count": null,
   "metadata": {
    "colab": {
     "base_uri": "https://localhost:8080/",
     "height": 70
    },
    "executionInfo": {
     "elapsed": 16,
     "status": "ok",
     "timestamp": 1679570341229,
     "user": {
      "displayName": "Dhruv Vaidh",
      "userId": "01322376143925324325"
     },
     "user_tz": -330
    },
    "id": "w-rqGKxH5C-d",
    "outputId": "6e5aec07-b8fc-414f-ddbf-810f48781bb8"
   },
   "outputs": [],
   "source": [
    "\"\"\"\n",
    "from nltk.corpus.reader.twitter import TweetTokenizer\n",
    "def preprocess_text(tweet):\n",
    "    tweet = re.sub(r'&\\S+', '', tweet) # remove '&amp'\n",
    "    tweet = tweet.replace(\"\\\\n\",'') # remove end of line signs '\\n'\n",
    "    tweet = re.sub(r'[^\\w\\s]','',tweet) # remove non word characters\n",
    "    tweet = re.sub(r'@\\w*', \"\", tweet) # remove usernames\n",
    "    tweet = tweet.lower() #convert to lower case\n",
    "    tweet = re.sub(r'[0-9]','',tweet) #remove numbers\n",
    "    tweet = nltk.TweetTokenizer(tweet)\n",
    "    return tweet\n",
    "\"\"\""
   ]
  },
  {
   "cell_type": "code",
   "execution_count": null,
   "metadata": {
    "colab": {
     "base_uri": "https://localhost:8080/",
     "height": 53
    },
    "executionInfo": {
     "elapsed": 15,
     "status": "ok",
     "timestamp": 1679570341229,
     "user": {
      "displayName": "Dhruv Vaidh",
      "userId": "01322376143925324325"
     },
     "user_tz": -330
    },
    "id": "nLpZtaNV5Eyz",
    "outputId": "af44a735-0989-4016-9116-e64659a55113"
   },
   "outputs": [],
   "source": [
    "\"\"\"\n",
    "#train_df.apply(preprocess_text(), )\n",
    "train_df.tweetText = np.array([preprocess_text(text) for text in train_df.tweetText])\n",
    "test_df.tweetText = np.array([preprocess_text(text) for text in test_df.tweetText])\n",
    "\"\"\""
   ]
  },
  {
   "cell_type": "code",
   "execution_count": null,
   "metadata": {
    "id": "g-y2Dfp8SfHi"
   },
   "outputs": [],
   "source": [
    "def preprocess_text(dataset):\n",
    "    dataset['tweetText'] = dataset['tweetText'].apply(lambda text: re.sub(r'@\\w*', \"\", text))\n",
    "    dataset['tweetText'] = dataset['tweetText'].apply(lambda text: re.sub(r'&amp;|\\\\n', '', text))\n",
    "    dataset['tweetText'] = dataset['tweetText'].apply(lambda text: re.sub(r'http\\S+', '', text))\n",
    "    dataset['tweetText'] = dataset['tweetText'].apply(lambda text: re.sub(r'\\\\\\/\\S+', '', text))\n",
    "\n",
    "    nltk.download('stopwords')\n",
    "    stopwords = nltk.corpus.stopwords.words()\n",
    "    stopwords.extend([':', ';', '[', ']', '\"', \"'\", '(', ')', '.', '?', '#', '@', '...', '¿'])\n",
    "\n",
    "    dataset['tweetTweet'] = dataset['tweetText'].apply(lambda x: ' '.join([w for w in x.split() if w not in stopwords]))"
   ]
  },
  {
   "cell_type": "code",
   "execution_count": null,
   "metadata": {
    "colab": {
     "base_uri": "https://localhost:8080/"
    },
    "executionInfo": {
     "elapsed": 21088,
     "status": "ok",
     "timestamp": 1679828371305,
     "user": {
      "displayName": "Dhruv Vaidh",
      "userId": "01322376143925324325"
     },
     "user_tz": -330
    },
    "id": "u7BCGjqzSe1L",
    "outputId": "da88ad7f-f529-4d26-b71f-e9c2abe62687"
   },
   "outputs": [],
   "source": [
    "preprocess_text(train_df)\n",
    "preprocess_text(test_df)"
   ]
  },
  {
   "cell_type": "code",
   "execution_count": null,
   "metadata": {
    "colab": {
     "base_uri": "https://localhost:8080/",
     "height": 35
    },
    "executionInfo": {
     "elapsed": 28,
     "status": "ok",
     "timestamp": 1679828371306,
     "user": {
      "displayName": "Dhruv Vaidh",
      "userId": "01322376143925324325"
     },
     "user_tz": -330
    },
    "id": "cqX-2vfA5ceH",
    "outputId": "47050989-8b77-4bf3-b6fc-27f05d9f48e5"
   },
   "outputs": [],
   "source": [
    "train_df.tweetText[0]"
   ]
  },
  {
   "cell_type": "code",
   "execution_count": null,
   "metadata": {
    "colab": {
     "base_uri": "https://localhost:8080/"
    },
    "executionInfo": {
     "elapsed": 27,
     "status": "ok",
     "timestamp": 1679828371306,
     "user": {
      "displayName": "Dhruv Vaidh",
      "userId": "01322376143925324325"
     },
     "user_tz": -330
    },
    "id": "1chHq2Na71zO",
    "outputId": "227b6800-0408-48e2-cd2c-503d2545f77d"
   },
   "outputs": [],
   "source": [
    "train_df.shape"
   ]
  },
  {
   "cell_type": "code",
   "execution_count": null,
   "metadata": {
    "id": "RxkykuMb3ujU"
   },
   "outputs": [],
   "source": [
    "token_lens = []\n",
    "\n",
    "tokenizer = BertTokenizer.from_pretrained('jirmauritz/bert-multilingual-emoji')\n",
    "def calculate_seq_length(df):\n",
    "    for txt in df.tweetText:\n",
    "        tokens = tokenizer.encode(str(txt))\n",
    "        token_lens.append(len(tokens))\n",
    "\n",
    "# calculate_seq_length(df)\n",
    "\n",
    "# sns.histplot(token_lens)\n",
    "# plt.xlabel('Sequence Length')"
   ]
  },
  {
   "cell_type": "code",
   "execution_count": null,
   "metadata": {
    "colab": {
     "base_uri": "https://localhost:8080/"
    },
    "executionInfo": {
     "elapsed": 25,
     "status": "ok",
     "timestamp": 1679828371307,
     "user": {
      "displayName": "Dhruv Vaidh",
      "userId": "01322376143925324325"
     },
     "user_tz": -330
    },
    "id": "pWzNJ24DP3pg",
    "outputId": "de4b4a80-bdc6-4c0a-c5d7-9332fee3efd3"
   },
   "outputs": [],
   "source": [
    "num_chars = train_df['tweetText'].apply(lambda x: len(x))\n",
    "num_chars"
   ]
  },
  {
   "cell_type": "code",
   "execution_count": null,
   "metadata": {
    "colab": {
     "base_uri": "https://localhost:8080/"
    },
    "executionInfo": {
     "elapsed": 22,
     "status": "ok",
     "timestamp": 1679828371307,
     "user": {
      "displayName": "Dhruv Vaidh",
      "userId": "01322376143925324325"
     },
     "user_tz": -330
    },
    "id": "a6ztIGjR32Yk",
    "outputId": "acce0527-0bf8-48c2-b9bd-47eb03ce7138"
   },
   "outputs": [],
   "source": [
    "MAX_LEN = max(num_chars)\n",
    "MAX_LEN"
   ]
  },
  {
   "cell_type": "code",
   "execution_count": null,
   "metadata": {
    "id": "QgbiFnLE0Pfn"
   },
   "outputs": [],
   "source": [
    "num_chars_test = test_df['tweetText'].apply(lambda x: len(x))\n",
    "MAX_LEN_TEST = max(num_chars_test)"
   ]
  },
  {
   "cell_type": "code",
   "execution_count": null,
   "metadata": {
    "id": "jSnnWSED4AMB"
   },
   "outputs": [],
   "source": [
    "# LABEL_COLUMNS = df.columns.tolist()[1:-1]\n",
    "# LABEL_COLUMNS"
   ]
  },
  {
   "cell_type": "code",
   "execution_count": null,
   "metadata": {
    "id": "R-QqcTlnMYXc"
   },
   "outputs": [],
   "source": [
    "from sklearn.preprocessing import LabelEncoder\n",
    "\n",
    "le = LabelEncoder()\n",
    "train_df['label'] = le.fit_transform(train_df['label'])\n",
    "test_df['label'] = le.fit_transform(test_df['label'])"
   ]
  },
  {
   "cell_type": "markdown",
   "metadata": {
    "id": "zC2YCebV6krE"
   },
   "source": [
    "# VisualBERT"
   ]
  },
  {
   "cell_type": "markdown",
   "metadata": {
    "id": "EKbGqrDDBY82"
   },
   "source": [
    "visual embedding generated using detectron2"
   ]
  },
  {
   "cell_type": "markdown",
   "metadata": {
    "id": "PEhUSAuchDak"
   },
   "source": [
    "Importing the training set visual embeddings"
   ]
  },
  {
   "cell_type": "code",
   "execution_count": null,
   "metadata": {
    "id": "4FplE5GBm7jC"
   },
   "outputs": [],
   "source": [
    "with open('/content/drive/MyDrive/VisualBERT-for-Memes-Classification/Data/visual_embeds_train.pkl', 'rb') as f:\n",
    "  visual_embeds_train = pickle.load(f)"
   ]
  },
  {
   "cell_type": "code",
   "execution_count": null,
   "metadata": {
    "colab": {
     "base_uri": "https://localhost:8080/"
    },
    "executionInfo": {
     "elapsed": 11,
     "status": "ok",
     "timestamp": 1679828384686,
     "user": {
      "displayName": "Dhruv Vaidh",
      "userId": "01322376143925324325"
     },
     "user_tz": -330
    },
    "id": "TikMpZdHnZYP",
    "outputId": "517423f6-e494-407b-80ab-b717a00eeee6"
   },
   "outputs": [],
   "source": [
    "print(len(visual_embeds_train))\n",
    "visual_embeds_train[0].shape"
   ]
  },
  {
   "cell_type": "markdown",
   "metadata": {
    "id": "RqWNDacQhIy9"
   },
   "source": [
    "Importing the test set visual embeddings"
   ]
  },
  {
   "cell_type": "code",
   "execution_count": null,
   "metadata": {
    "id": "6yQKRti4gyMT"
   },
   "outputs": [],
   "source": [
    "with open('/content/drive/MyDrive/VisualBERT-for-Memes-Classification/Data/visual_embeds_test.pkl', 'rb') as f:\n",
    "  visual_embeds_test = pickle.load(f)"
   ]
  },
  {
   "cell_type": "code",
   "execution_count": null,
   "metadata": {
    "colab": {
     "base_uri": "https://localhost:8080/"
    },
    "executionInfo": {
     "elapsed": 9,
     "status": "ok",
     "timestamp": 1679828388295,
     "user": {
      "displayName": "Dhruv Vaidh",
      "userId": "01322376143925324325"
     },
     "user_tz": -330
    },
    "id": "Q1G1ux0Gg61o",
    "outputId": "23bf3d6e-7419-41d7-9893-c1c03ed9d0bd"
   },
   "outputs": [],
   "source": [
    "print(len(visual_embeds_test))\n",
    "visual_embeds_test[0].shape"
   ]
  },
  {
   "cell_type": "code",
   "execution_count": null,
   "metadata": {
    "id": "G_6g4wY32gzE"
   },
   "outputs": [],
   "source": [
    "from transformers import VisualBertModel, VisualBertConfig\n",
    "\n",
    "configuration = VisualBertConfig.from_pretrained('uclanlp/visualbert-vqa', visual_embedding_dim=1024)\n",
    "model = VisualBertModel(configuration)\n",
    "model = model.to(device)\n",
    "\n",
    "tokenizer = BertTokenizer.from_pretrained('jirmauritz/bert-multilingual-emoji')"
   ]
  },
  {
   "cell_type": "markdown",
   "metadata": {
    "id": "hVph48TZ1VW4"
   },
   "source": [
    "### Batch Example"
   ]
  },
  {
   "cell_type": "code",
   "execution_count": null,
   "metadata": {
    "id": "zjs5G6YU8PY9"
   },
   "outputs": [],
   "source": [
    "visual_embeds_train[:1]\n",
    "index = 2"
   ]
  },
  {
   "cell_type": "code",
   "execution_count": null,
   "metadata": {
    "colab": {
     "base_uri": "https://localhost:8080/"
    },
    "executionInfo": {
     "elapsed": 31,
     "status": "ok",
     "timestamp": 1679828392581,
     "user": {
      "displayName": "Dhruv Vaidh",
      "userId": "01322376143925324325"
     },
     "user_tz": -330
    },
    "id": "Aad36PMFs1zf",
    "outputId": "a62b3755-92c7-436f-ee21-5c78a66229d6"
   },
   "outputs": [],
   "source": [
    "# tokens = tokenizer(df_train.text[index], padding='max_length', max_length=64)\n",
    "\n",
    "tokens = tokenizer.encode_plus(\n",
    "      train_df.tweetText[index],\n",
    "      add_special_tokens=True,\n",
    "      max_length= MAX_LEN,\n",
    "      return_token_type_ids=False,\n",
    "      padding=\"max_length\",\n",
    "      truncation=True,\n",
    "      return_attention_mask=True,\n",
    "      return_tensors='pt',\n",
    ")\n",
    "\n",
    "input_ids = torch.tensor(tokens[\"input_ids\"]).to(device).flatten()\n",
    "attention_mask = torch.tensor(tokens[\"attention_mask\"]).to(device).flatten()\n",
    "\n",
    "visual_embeds = visual_embeds_train[index].to(device)\n",
    "visual_attention_mask = torch.ones(visual_embeds.shape[:-1], dtype=torch.float).to(device)\n",
    "\n",
    "visual_embeds = visual_embeds_test[index].to(device)\n",
    "visual_attention_mask_test = torch.ones(visual_embeds.shape[:-1], dtype=torch.float).to(device)"
   ]
  },
  {
   "cell_type": "code",
   "execution_count": null,
   "metadata": {
    "colab": {
     "base_uri": "https://localhost:8080/"
    },
    "executionInfo": {
     "elapsed": 28,
     "status": "ok",
     "timestamp": 1679828392581,
     "user": {
      "displayName": "Dhruv Vaidh",
      "userId": "01322376143925324325"
     },
     "user_tz": -330
    },
    "id": "A74QnZ7Ls0KJ",
    "outputId": "75bc26f2-a1ee-4292-aea0-12bdfef63870"
   },
   "outputs": [],
   "source": [
    "print(input_ids.shape)\n",
    "print(attention_mask.shape)\n",
    "print(visual_embeds.shape)\n",
    "print(visual_attention_mask.shape)"
   ]
  },
  {
   "cell_type": "markdown",
   "metadata": {
    "id": "VD-6OY9v2LAw"
   },
   "source": [
    "# Dataset\n",
    "We’ll wrap the tokenization process in a PyTorch Dataset, along with converting the labels to tensors:"
   ]
  },
  {
   "cell_type": "code",
   "execution_count": null,
   "metadata": {
    "id": "9zfefc0L2J7-"
   },
   "outputs": [],
   "source": [
    "# LABEL_COLUMNS = df.columns.tolist()[1:-1]\n",
    "# LABEL_COLUMNS"
   ]
  },
  {
   "cell_type": "code",
   "execution_count": null,
   "metadata": {
    "id": "sOsIWnzfP5_B"
   },
   "outputs": [],
   "source": [
    "for i in range(len(visual_embeds_train)):\n",
    "  visual_embeds_train[i] = visual_embeds_train[i].to(device)\n",
    "\n",
    "for i in range(len(visual_embeds_test)):\n",
    "  visual_embeds_test[i] = visual_embeds_test[i].to(device)"
   ]
  },
  {
   "cell_type": "markdown",
   "metadata": {
    "id": "UCiwDK5l8Y6u"
   },
   "source": [
    "Training Dataset"
   ]
  },
  {
   "cell_type": "code",
   "execution_count": null,
   "metadata": {
    "id": "qretJdMK2zAT"
   },
   "outputs": [],
   "source": [
    "class FNDataset(Dataset):\n",
    "\n",
    "  def __init__(self, data: pd.DataFrame, tokenizer: BertTokenizer, max_len: int, visual_embeds):\n",
    "    self.tokenizer = tokenizer\n",
    "    self.data = data\n",
    "    self.max_len = max_len\n",
    "    self.visual_embeds = visual_embeds\n",
    "  \n",
    "  def __len__(self):\n",
    "    return len(self.data)\n",
    "\n",
    "  def __getitem__(self, index):\n",
    "\n",
    "    data_row = self.data.iloc[index]\n",
    "    text = data_row.tweetText\n",
    "    labels = data_row.label\n",
    "\n",
    "    tokens = self.tokenizer.encode_plus(\n",
    "      text,\n",
    "      add_special_tokens=True,\n",
    "      max_length=self.max_len,\n",
    "      return_token_type_ids=False,\n",
    "      padding=\"max_length\",\n",
    "      truncation=True,\n",
    "      return_attention_mask=True,\n",
    "      return_tensors='pt',\n",
    "    )\n",
    "\n",
    "    input_ids = torch.tensor(tokens[\"input_ids\"]).flatten()\n",
    "    attention_mask = torch.tensor(tokens[\"attention_mask\"]).flatten()\n",
    "\n",
    "    visual_embedding = self.visual_embeds[index].to(device)\n",
    "    visual_attention_mask = torch.ones(visual_embedding.shape[:-1], dtype=torch.float)\n",
    "    visual_token_type_ids = torch.ones(visual_embeds.shape[:-1], dtype=torch.long)\n",
    "\n",
    "    return dict(\n",
    "      input_ids=input_ids,\n",
    "      attention_mask=attention_mask,\n",
    "      visual_embedding=visual_embedding,\n",
    "      visual_attention_mask=visual_attention_mask,\n",
    "      visual_token_type_ids=visual_token_type_ids,\n",
    "      labels=torch.tensor(labels).float()\n",
    "    )"
   ]
  },
  {
   "cell_type": "code",
   "execution_count": null,
   "metadata": {
    "id": "__3glZBs3J8b"
   },
   "outputs": [],
   "source": [
    "dataset = FNDataset(\n",
    "  train_df,\n",
    "  tokenizer,\n",
    "  MAX_LEN,\n",
    "  visual_embeds_train\n",
    ")"
   ]
  },
  {
   "cell_type": "code",
   "execution_count": null,
   "metadata": {
    "colab": {
     "base_uri": "https://localhost:8080/"
    },
    "executionInfo": {
     "elapsed": 20305,
     "status": "ok",
     "timestamp": 1679828412868,
     "user": {
      "displayName": "Dhruv Vaidh",
      "userId": "01322376143925324325"
     },
     "user_tz": -330
    },
    "id": "2dn_0xLrbQm7",
    "outputId": "d5e5d0f5-bfe8-4f51-a417-b2295a44d0e6"
   },
   "outputs": [],
   "source": [
    "train_dataset, val_dataset = train_test_split(dataset, test_size=0.10)"
   ]
  },
  {
   "cell_type": "markdown",
   "metadata": {
    "id": "78yv5Gka_F-N"
   },
   "source": [
    "Test Dataset"
   ]
  },
  {
   "cell_type": "code",
   "execution_count": null,
   "metadata": {
    "id": "mV-Cf2ht_Fc0"
   },
   "outputs": [],
   "source": [
    "class TestDataset(Dataset):\n",
    "\n",
    "  def __init__(self, data: pd.DataFrame, tokenizer: BertTokenizer, max_len: int, visual_embeds):\n",
    "    self.tokenizer = tokenizer\n",
    "    self.data = data\n",
    "    self.max_len = max_len\n",
    "    self.visual_embeds = visual_embeds\n",
    "  \n",
    "  def __len__(self):\n",
    "    return len(self.data)\n",
    "\n",
    "  def __getitem__(self, index):\n",
    "\n",
    "    data_row = self.data.iloc[index]\n",
    "    text = data_row.tweetText\n",
    "    labels = data_row.label\n",
    "\n",
    "    tokens = self.tokenizer.encode_plus(\n",
    "      text,\n",
    "      add_special_tokens=True,\n",
    "      max_length=self.max_len,\n",
    "      return_token_type_ids=False,\n",
    "      padding=\"max_length\",\n",
    "      truncation=True,\n",
    "      return_attention_mask=True,\n",
    "      return_tensors='pt',\n",
    "    )\n",
    "\n",
    "    input_ids = torch.tensor(tokens[\"input_ids\"]).flatten()\n",
    "    attention_mask = torch.tensor(tokens[\"attention_mask\"]).flatten()\n",
    "\n",
    "    visual_embedding = self.visual_embeds[index].to('cpu')\n",
    "    visual_attention_mask = torch.ones(visual_embedding.shape[:-1], dtype=torch.float)\n",
    "    visual_token_type_ids = torch.ones(visual_embeds.shape[:-1], dtype=torch.long)\n",
    "\n",
    "    return dict(\n",
    "      input_ids=input_ids,\n",
    "      attention_mask=attention_mask,\n",
    "      visual_embedding=visual_embedding,\n",
    "      visual_attention_mask=visual_attention_mask,\n",
    "      visual_token_type_ids=visual_token_type_ids,\n",
    "      labels=torch.tensor(labels).float()\n",
    "    )"
   ]
  },
  {
   "cell_type": "code",
   "execution_count": null,
   "metadata": {
    "id": "F56__44e08GO"
   },
   "outputs": [],
   "source": [
    "test_dataset = TestDataset(\n",
    "    test_df,\n",
    "    tokenizer,\n",
    "    MAX_LEN_TEST,\n",
    "    visual_embeds_test\n",
    ")"
   ]
  },
  {
   "cell_type": "code",
   "execution_count": null,
   "metadata": {
    "id": "gJUNePgDH2Pm"
   },
   "outputs": [],
   "source": [
    "temp = DataLoader(\n",
    "    train_dataset,\n",
    "    batch_size = 32,\n",
    "    shuffle=True,\n",
    "    num_workers=2\n",
    "    )"
   ]
  },
  {
   "cell_type": "code",
   "execution_count": null,
   "metadata": {
    "colab": {
     "base_uri": "https://localhost:8080/"
    },
    "executionInfo": {
     "elapsed": 24,
     "status": "ok",
     "timestamp": 1679828412869,
     "user": {
      "displayName": "Dhruv Vaidh",
      "userId": "01322376143925324325"
     },
     "user_tz": -330
    },
    "id": "c5_aEeZ8bhYx",
    "outputId": "be797ddc-dda3-4d85-dc1e-ac34b4774e18"
   },
   "outputs": [],
   "source": [
    "print(len(train_dataset))\n",
    "print(len(val_dataset))"
   ]
  },
  {
   "cell_type": "markdown",
   "metadata": {
    "id": "bPLwoNLtXGMj"
   },
   "source": [
    "# Data Module"
   ]
  },
  {
   "cell_type": "code",
   "execution_count": null,
   "metadata": {
    "id": "lw6DihLcXBw_"
   },
   "outputs": [],
   "source": [
    "class FNDataModule(pl.LightningDataModule):\n",
    "\n",
    "  def __init__(self, train_dataset, val_dataset, test_dataset, tokenizer, batch_size=32, max_len=64):\n",
    "    super().__init__()\n",
    "    self.batch_size = batch_size\n",
    "    # self.df = df\n",
    "    self.train_dataset = train_dataset\n",
    "    self.val_dataset = val_dataset\n",
    "    self.test_dataset = test_dataset\n",
    "    self.tokenizer = tokenizer\n",
    "    self.max_len = max_len\n",
    "    # self.visual_embeds_mami = visual_embeds_mami\n",
    "  \n",
    "  # def setup(self, stage=None):\n",
    "  #   self.dataset = MAMIDataset(self.df, self.tokenizer, self.max_len, self.visual_embeds_mami)\n",
    "  #   self.train_dataset, self.val_dataset = train_test_split(self.dataset, test_size=0.1)\n",
    "  \n",
    "  def train_dataloader(self):\n",
    "    return DataLoader(\n",
    "        self.train_dataset,\n",
    "        batch_size = self.batch_size,\n",
    "        shuffle=True,\n",
    "        num_workers=3\n",
    "    )\n",
    "  \n",
    "  def val_dataloader(self):\n",
    "    return DataLoader(\n",
    "        self.val_dataset,\n",
    "        batch_size = self.batch_size,\n",
    "        num_workers=3\n",
    "    )\n",
    "  \n",
    "  def test_dataloader(self):\n",
    "    return DataLoader(\n",
    "        self.test_dataset,\n",
    "        batch_size = self.batch_size,\n",
    "        num_workers=3\n",
    "    )"
   ]
  },
  {
   "cell_type": "markdown",
   "metadata": {
    "id": "A1BMMTdf7YHM"
   },
   "source": [
    "# Model"
   ]
  },
  {
   "cell_type": "code",
   "execution_count": null,
   "metadata": {
    "id": "cK611f6d7TlC"
   },
   "outputs": [],
   "source": [
    "class FNClassifier(pl.LightningModule):\n",
    "  \n",
    "  def __init__(self, n_classes, n_training_steps=None, n_warmup_steps=None):\n",
    "    super().__init__()\n",
    "    self.configuration = VisualBertConfig.from_pretrained('uclanlp/visualbert-vqa-coco-pre', visual_embedding_dim=1024)\n",
    "    self.model = VisualBertModel(configuration)\n",
    "    self.n_training_steps = n_training_steps\n",
    "    self.n_warmup_steps = n_warmup_steps\n",
    "    self.criterion = nn.CrossEntropyLoss()\n",
    "    self.dropout = nn.Dropout(0.2)\n",
    "    self.classifier = nn.Linear(self.model.config.hidden_size, n_classes)\n",
    "  \n",
    "  \n",
    "  def forward(self, input_ids, attention_mask, visual_embeds, visual_attention_mask, visual_token_type_ids, labels=None):\n",
    "    output = self.model(input_ids=input_ids,\n",
    "                        attention_mask=attention_mask,\n",
    "                        visual_embeds=visual_embeds,\n",
    "                        visual_attention_mask=visual_attention_mask,\n",
    "                        visual_token_type_ids=visual_token_type_ids)\n",
    "    \n",
    "    # output = self.dropout(output.pooler_output)\n",
    "    output = self.classifier(output.pooler_output)\n",
    "\n",
    "    loss = 0\n",
    "    if labels is not None:\n",
    "      loss = self.criterion(output, labels)\n",
    "\n",
    "    return loss, output\n",
    "  \n",
    "  def training_step(self, batch, batch_idx):\n",
    "    input_ids = batch['input_ids'].to(device)\n",
    "    attention_mask = batch['attention_mask'].to(device)\n",
    "    visual_embeds = batch['visual_embedding'].to(device)\n",
    "    visual_attention_mask = batch['visual_attention_mask'].to(device)\n",
    "    visual_token_type_ids = batch['visual_token_type_ids'].to(device)\n",
    "\n",
    "    labels = batch['labels'].type(torch.LongTensor).to(device)\n",
    "    \n",
    "    loss, outputs = self(input_ids, attention_mask, visual_embeds, visual_attention_mask, visual_token_type_ids, labels)\n",
    "    self.log('train_loss', loss, prog_bar=True, logger=True)\n",
    "\n",
    "    return {\"loss\":loss, 'predictions':outputs, 'labels':labels}\n",
    "\n",
    "  def validation_step(self, batch, batch_idx):\n",
    "    input_ids = batch['input_ids']\n",
    "    attention_mask = batch['attention_mask']\n",
    "    visual_embeds = batch['visual_embedding']\n",
    "    visual_attention_mask = batch['visual_attention_mask']\n",
    "    visual_token_type_ids = batch['visual_token_type_ids'].to(device)\n",
    "    labels = batch['labels'].type(torch.LongTensor).to(device)\n",
    "    \n",
    "    loss, outputs = self(input_ids, attention_mask, visual_embeds, visual_attention_mask, visual_token_type_ids, labels)\n",
    "    self.log('val_loss', loss, prog_bar=True, logger=True)\n",
    "\n",
    "    return loss\n",
    "  \n",
    "  def configure_optimizers(self):\n",
    "    optimizer = AdamW(self.parameters(), lr=3e-5)\n",
    "\n",
    "    scheduler = get_linear_schedule_with_warmup(\n",
    "        optimizer,\n",
    "        num_warmup_steps=self.n_warmup_steps,\n",
    "        num_training_steps=self.n_training_steps\n",
    "    )\n",
    "\n",
    "    return dict(\n",
    "        optimizer=optimizer,\n",
    "        lr_scheduler=dict(\n",
    "            scheduler=scheduler,\n",
    "            interval='step'\n",
    "        )\n",
    "    )"
   ]
  },
  {
   "cell_type": "code",
   "execution_count": null,
   "metadata": {
    "id": "t9ppC1UcGyRS"
   },
   "outputs": [],
   "source": [
    "n_classes = 2\n",
    "N_EPOCHS = 2\n",
    "BATCH_SIZE = 40"
   ]
  },
  {
   "cell_type": "code",
   "execution_count": null,
   "metadata": {
    "id": "E_IUYfAlBmVZ"
   },
   "outputs": [],
   "source": [
    "steps_per_epoch = 8000 // BATCH_SIZE\n",
    "total_training_steps = steps_per_epoch * N_EPOCHS"
   ]
  },
  {
   "cell_type": "code",
   "execution_count": null,
   "metadata": {
    "colab": {
     "base_uri": "https://localhost:8080/"
    },
    "executionInfo": {
     "elapsed": 23,
     "status": "ok",
     "timestamp": 1679828412870,
     "user": {
      "displayName": "Dhruv Vaidh",
      "userId": "01322376143925324325"
     },
     "user_tz": -330
    },
    "id": "e6bCqgX5B4WK",
    "outputId": "b15329ce-bdf6-4eb3-fe56-32602f1fbfc8"
   },
   "outputs": [],
   "source": [
    "warmup_steps = total_training_steps // 10\n",
    "warmup_steps, total_training_steps"
   ]
  },
  {
   "cell_type": "code",
   "execution_count": null,
   "metadata": {
    "id": "iNlSQYrpB7eL"
   },
   "outputs": [],
   "source": [
    "model = FNClassifier(\n",
    "  n_classes=n_classes,\n",
    "  n_training_steps=total_training_steps,\n",
    "  n_warmup_steps=0,\n",
    ")"
   ]
  },
  {
   "cell_type": "markdown",
   "metadata": {
    "id": "kRsfomsbCXen"
   },
   "source": [
    "# Training"
   ]
  },
  {
   "cell_type": "code",
   "execution_count": null,
   "metadata": {
    "id": "aBWjh-_RCY8r"
   },
   "outputs": [],
   "source": [
    "checkpoint_callback = ModelCheckpoint(\n",
    "  dirpath=\"/content/drive/MyDrive/VisualBERT-for-Memes-Classification/checkpoints\",\n",
    "  filename=\"best-checkpoint\",\n",
    "  save_top_k=1,\n",
    "  verbose=True,\n",
    "  monitor=\"val_loss\",\n",
    "  mode=\"min\",\n",
    ")"
   ]
  },
  {
   "cell_type": "code",
   "execution_count": null,
   "metadata": {
    "id": "mlmV37KLCbVu"
   },
   "outputs": [],
   "source": [
    "logger = TensorBoardLogger(\"lightning_logs\", name=\"fnd\")"
   ]
  },
  {
   "cell_type": "code",
   "execution_count": null,
   "metadata": {
    "id": "kkFBXbCACcuz"
   },
   "outputs": [],
   "source": [
    "early_stopping_callback = EarlyStopping(monitor='val_loss', patience=3)"
   ]
  },
  {
   "cell_type": "code",
   "execution_count": null,
   "metadata": {
    "colab": {
     "base_uri": "https://localhost:8080/"
    },
    "executionInfo": {
     "elapsed": 12,
     "status": "ok",
     "timestamp": 1679828414750,
     "user": {
      "displayName": "Dhruv Vaidh",
      "userId": "01322376143925324325"
     },
     "user_tz": -330
    },
    "id": "uW996WMUdvMk",
    "outputId": "c7555a49-bf9f-4b65-f7d7-2fb4cd4f4eb6"
   },
   "outputs": [],
   "source": [
    "len(dataset)"
   ]
  },
  {
   "cell_type": "code",
   "execution_count": null,
   "metadata": {
    "colab": {
     "background_save": true,
     "base_uri": "https://localhost:8080/",
     "height": 1000
    },
    "executionInfo": {
     "elapsed": 22175,
     "status": "error",
     "timestamp": 1679828436914,
     "user": {
      "displayName": "Dhruv Vaidh",
      "userId": "01322376143925324325"
     },
     "user_tz": -330
    },
    "id": "lRn0HUm8Cg2U"
   },
   "outputs": [],
   "source": [
    "from sklearn.model_selection import KFold\n",
    "import sklearn\n",
    "\n",
    "dataset = FNDataset(\n",
    "  train_df,\n",
    "  tokenizer,\n",
    "  MAX_LEN,\n",
    "  visual_embeds_train\n",
    ")\n",
    "\n",
    "test_dataset = TestDataset(\n",
    "    test_df,\n",
    "    tokenizer,\n",
    "    MAX_LEN_TEST,\n",
    "    visual_embeds_test\n",
    ")\n",
    "train_dataset, val_dataset = train_test_split(dataset, test_size=0.1, random_state=RANDOM_SEED, shuffle=True)\n",
    "\n",
    "data_module = FNDataModule(\n",
    "    train_dataset=train_dataset,\n",
    "    val_dataset=val_dataset,\n",
    "    test_dataset = test_dataset,\n",
    "    tokenizer=tokenizer,\n",
    "    batch_size=BATCH_SIZE,\n",
    ")\n",
    "#import os\n",
    "#os.environ = os.environ['CUDA_LAUNCH_BLOCKING'] = 1\n",
    "\n",
    "trainer = pl.Trainer(\n",
    "    logger=logger,\n",
    "    callbacks=[early_stopping_callback, checkpoint_callback],\n",
    "    max_epochs=10\n",
    ")\n",
    "\n",
    "trainer.fit(model, data_module)\n",
    "\n",
    "# n = 5\n",
    "# kf = KFold(n_splits=n, random_state=RANDOM_SEED, shuffle=True)\n",
    "\n",
    "# dataset = np.array(dataset)\n",
    "\n",
    "# for train_index, val_index in kf.split(dataset):\n",
    "#   train_dataset = dataset[train_index]\n",
    "#   val_dataset = dataset[val_index]\n",
    "\n",
    "#   data_module = MemotionDataModule(\n",
    "#     train_dataset=train_dataset,\n",
    "#     val_dataset=val_dataset,\n",
    "#     tokenizer=tokenizer,\n",
    "#     batch_size=BATCH_SIZE,\n",
    "#     max_len=MAX_LEN\n",
    "#   )\n",
    "\n",
    "#   trainer = pl.Trainer(\n",
    "#     logger=logger,\n",
    "#     callbacks=[early_stopping_callback, checkpoint_callback],\n",
    "#     max_epochs=N_EPOCHS,\n",
    "#     gpus=1,\n",
    "#     progress_bar_refresh_rate=10\n",
    "#   )\n",
    "\n",
    "#   trainer.fit(model, data_module)"
   ]
  },
  {
   "cell_type": "markdown",
   "metadata": {
    "id": "Zi6zHB9cMVr3"
   },
   "source": [
    "# Evaluation"
   ]
  },
  {
   "cell_type": "code",
   "execution_count": null,
   "metadata": {
    "colab": {
     "background_save": true
    },
    "id": "oz5j9DnbMW21"
   },
   "outputs": [],
   "source": [
    "\"\"\"\n",
    "trained_model = FNClassifier.load_from_checkpoint(\n",
    "  '/content/checkpoints/best-checkpoint-v2.ckpt',\n",
    "  n_classes=2\n",
    ")\n",
    "trained_model.eval()\n",
    "trained_model.freeze()\n",
    "\"\"\""
   ]
  },
  {
   "cell_type": "code",
   "execution_count": null,
   "metadata": {
    "colab": {
     "background_save": true
    },
    "id": "_ZFRyGWIMX55"
   },
   "outputs": [],
   "source": [
    "\"\"\"\n",
    "device = torch.device('cuda' if torch.cuda.is_available() else 'cpu')\n",
    "trained_model = trained_model.to(device)\n",
    "\n",
    "predictions = []\n",
    "labels = []\n",
    "for item in tqdm(test_dataset):\n",
    "  _, prediction = trained_model(\n",
    "    item[\"input_ids\"].unsqueeze(dim=0).to(device),\n",
    "    item[\"attention_mask\"].unsqueeze(dim=0).to(device),\n",
    "    item[\"visual_embedding\"].unsqueeze(dim=0).to(device),\n",
    "    item['visual_attention_mask'].unsqueeze(dim=0).to(device),\n",
    "    item['visual_token_type_ids'].unsqueeze(dim=0).to(device)\n",
    "  )\n",
    "  predictions.append(prediction.flatten())\n",
    "  labels.append(item[\"labels\"].int())\n",
    "  \n",
    "predictions = torch.stack(predictions).detach().cpu()\n",
    "labels = torch.stack(labels).detach().cpu()\n",
    "\n",
    "\"\"\""
   ]
  },
  {
   "cell_type": "code",
   "execution_count": null,
   "metadata": {
    "colab": {
     "background_save": true
    },
    "id": "gnES_ixtMHur"
   },
   "outputs": [],
   "source": [
    "\"\"\"\n",
    "from torch.nn.functional import softmax\n",
    "\n",
    "_, preds = torch.max(torch.tensor(predictions), dim=1)\n",
    "\"\"\""
   ]
  },
  {
   "cell_type": "code",
   "execution_count": null,
   "metadata": {
    "colab": {
     "background_save": true
    },
    "id": "--EBItYoM87I"
   },
   "outputs": [],
   "source": [
    "#preds[17]"
   ]
  },
  {
   "cell_type": "code",
   "execution_count": null,
   "metadata": {
    "colab": {
     "background_save": true
    },
    "id": "bP6HPE5nMwwW"
   },
   "outputs": [],
   "source": [
    "\"\"\"\n",
    "from sklearn.metrics import f1_score\n",
    "\n",
    "print(\"F1 macro:   {}\".format(round(f1_score(labels, preds , average=\"macro\"), 3)))\n",
    "print(\"F1 micro:   {}\".format(round(f1_score(labels, preds > 0.5, average=\"micro\"), 3)))\n",
    "\"\"\""
   ]
  },
  {
   "cell_type": "code",
   "execution_count": null,
   "metadata": {
    "colab": {
     "background_save": true
    },
    "id": "RQb1v-P8Mizc"
   },
   "outputs": [],
   "source": [
    "#accuracy(predictions, labels)"
   ]
  },
  {
   "cell_type": "code",
   "execution_count": null,
   "metadata": {
    "colab": {
     "background_save": true
    },
    "id": "i4t3itYZ1muH"
   },
   "outputs": [],
   "source": [
    "\"\"\"\n",
    "from sklearn.metrics import confusion_matrix\n",
    "\n",
    "fig, ax = plt.subplots(figsize=(10,10))\n",
    "sns.heatmap(confusion_matrix(labels ,preds), annot=True, cbar_kws={'shrink':1}, square=True, ax=ax)\n",
    "plt.tight_layout()\n",
    "ax.set_aspect('equal')\n",
    "plt.show()\n",
    "plt.clf()\n",
    "\"\"\""
   ]
  }
 ],
 "metadata": {
  "accelerator": "GPU",
  "colab": {
   "machine_shape": "hm",
   "name": "",
   "provenance": [
    {
     "file_id": "1A7a1CvhykeJhXaOZSP18a3Q4741ZH_XM",
     "timestamp": 1678942484801
    }
   ],
   "version": ""
  },
  "gpuClass": "premium",
  "kernelspec": {
   "display_name": "Python 3 (ipykernel)",
   "language": "python",
   "name": "python3"
  },
  "language_info": {
   "codemirror_mode": {
    "name": "ipython",
    "version": 3
   },
   "file_extension": ".py",
   "mimetype": "text/x-python",
   "name": "python",
   "nbconvert_exporter": "python",
   "pygments_lexer": "ipython3",
   "version": "3.8.8"
  },
  "widgets": {
   "application/vnd.jupyter.widget-state+json": {
    "065c4292d913431d815d44533cc5d6b9": {
     "model_module": "@jupyter-widgets/controls",
     "model_module_version": "1.5.0",
     "model_name": "ProgressStyleModel",
     "state": {
      "_model_module": "@jupyter-widgets/controls",
      "_model_module_version": "1.5.0",
      "_model_name": "ProgressStyleModel",
      "_view_count": null,
      "_view_module": "@jupyter-widgets/base",
      "_view_module_version": "1.2.0",
      "_view_name": "StyleView",
      "bar_color": null,
      "description_width": ""
     }
    },
    "177936e6be624eed97e13dade1365827": {
     "model_module": "@jupyter-widgets/controls",
     "model_module_version": "1.5.0",
     "model_name": "HTMLModel",
     "state": {
      "_dom_classes": [],
      "_model_module": "@jupyter-widgets/controls",
      "_model_module_version": "1.5.0",
      "_model_name": "HTMLModel",
      "_view_count": null,
      "_view_module": "@jupyter-widgets/controls",
      "_view_module_version": "1.5.0",
      "_view_name": "HTMLView",
      "description": "",
      "description_tooltip": null,
      "layout": "IPY_MODEL_6b34b9fe7b20471f8fb242338d507244",
      "placeholder": "​",
      "style": "IPY_MODEL_eac85fca2f154f4b9a53c03a275495e6",
      "value": " 0/? [00:00&lt;?, ?it/s]"
     }
    },
    "22a680e1d007420099b2ebdc6c6ad342": {
     "model_module": "@jupyter-widgets/base",
     "model_module_version": "1.2.0",
     "model_name": "LayoutModel",
     "state": {
      "_model_module": "@jupyter-widgets/base",
      "_model_module_version": "1.2.0",
      "_model_name": "LayoutModel",
      "_view_count": null,
      "_view_module": "@jupyter-widgets/base",
      "_view_module_version": "1.2.0",
      "_view_name": "LayoutView",
      "align_content": null,
      "align_items": null,
      "align_self": null,
      "border": null,
      "bottom": null,
      "display": null,
      "flex": "2",
      "flex_flow": null,
      "grid_area": null,
      "grid_auto_columns": null,
      "grid_auto_flow": null,
      "grid_auto_rows": null,
      "grid_column": null,
      "grid_gap": null,
      "grid_row": null,
      "grid_template_areas": null,
      "grid_template_columns": null,
      "grid_template_rows": null,
      "height": null,
      "justify_content": null,
      "justify_items": null,
      "left": null,
      "margin": null,
      "max_height": null,
      "max_width": null,
      "min_height": null,
      "min_width": null,
      "object_fit": null,
      "object_position": null,
      "order": null,
      "overflow": null,
      "overflow_x": null,
      "overflow_y": null,
      "padding": null,
      "right": null,
      "top": null,
      "visibility": null,
      "width": null
     }
    },
    "6b34b9fe7b20471f8fb242338d507244": {
     "model_module": "@jupyter-widgets/base",
     "model_module_version": "1.2.0",
     "model_name": "LayoutModel",
     "state": {
      "_model_module": "@jupyter-widgets/base",
      "_model_module_version": "1.2.0",
      "_model_name": "LayoutModel",
      "_view_count": null,
      "_view_module": "@jupyter-widgets/base",
      "_view_module_version": "1.2.0",
      "_view_name": "LayoutView",
      "align_content": null,
      "align_items": null,
      "align_self": null,
      "border": null,
      "bottom": null,
      "display": null,
      "flex": null,
      "flex_flow": null,
      "grid_area": null,
      "grid_auto_columns": null,
      "grid_auto_flow": null,
      "grid_auto_rows": null,
      "grid_column": null,
      "grid_gap": null,
      "grid_row": null,
      "grid_template_areas": null,
      "grid_template_columns": null,
      "grid_template_rows": null,
      "height": null,
      "justify_content": null,
      "justify_items": null,
      "left": null,
      "margin": null,
      "max_height": null,
      "max_width": null,
      "min_height": null,
      "min_width": null,
      "object_fit": null,
      "object_position": null,
      "order": null,
      "overflow": null,
      "overflow_x": null,
      "overflow_y": null,
      "padding": null,
      "right": null,
      "top": null,
      "visibility": null,
      "width": null
     }
    },
    "8b8bf42995664b00bbdd1d32d72bc9a6": {
     "model_module": "@jupyter-widgets/controls",
     "model_module_version": "1.5.0",
     "model_name": "FloatProgressModel",
     "state": {
      "_dom_classes": [],
      "_model_module": "@jupyter-widgets/controls",
      "_model_module_version": "1.5.0",
      "_model_name": "FloatProgressModel",
      "_view_count": null,
      "_view_module": "@jupyter-widgets/controls",
      "_view_module_version": "1.5.0",
      "_view_name": "ProgressView",
      "bar_style": "info",
      "description": "",
      "description_tooltip": null,
      "layout": "IPY_MODEL_22a680e1d007420099b2ebdc6c6ad342",
      "max": 1,
      "min": 0,
      "orientation": "horizontal",
      "style": "IPY_MODEL_065c4292d913431d815d44533cc5d6b9",
      "value": 0
     }
    },
    "9112bc8bcb9b41b2b80784e998f5ae43": {
     "model_module": "@jupyter-widgets/controls",
     "model_module_version": "1.5.0",
     "model_name": "HBoxModel",
     "state": {
      "_dom_classes": [],
      "_model_module": "@jupyter-widgets/controls",
      "_model_module_version": "1.5.0",
      "_model_name": "HBoxModel",
      "_view_count": null,
      "_view_module": "@jupyter-widgets/controls",
      "_view_module_version": "1.5.0",
      "_view_name": "HBoxView",
      "box_style": "",
      "children": [
       "IPY_MODEL_ca313301dd0241d2abfe1e76788761b3",
       "IPY_MODEL_8b8bf42995664b00bbdd1d32d72bc9a6",
       "IPY_MODEL_177936e6be624eed97e13dade1365827"
      ],
      "layout": "IPY_MODEL_93d983a751804931b970c2557fa4ff0f"
     }
    },
    "93d983a751804931b970c2557fa4ff0f": {
     "model_module": "@jupyter-widgets/base",
     "model_module_version": "1.2.0",
     "model_name": "LayoutModel",
     "state": {
      "_model_module": "@jupyter-widgets/base",
      "_model_module_version": "1.2.0",
      "_model_name": "LayoutModel",
      "_view_count": null,
      "_view_module": "@jupyter-widgets/base",
      "_view_module_version": "1.2.0",
      "_view_name": "LayoutView",
      "align_content": null,
      "align_items": null,
      "align_self": null,
      "border": null,
      "bottom": null,
      "display": "inline-flex",
      "flex": null,
      "flex_flow": "row wrap",
      "grid_area": null,
      "grid_auto_columns": null,
      "grid_auto_flow": null,
      "grid_auto_rows": null,
      "grid_column": null,
      "grid_gap": null,
      "grid_row": null,
      "grid_template_areas": null,
      "grid_template_columns": null,
      "grid_template_rows": null,
      "height": null,
      "justify_content": null,
      "justify_items": null,
      "left": null,
      "margin": null,
      "max_height": null,
      "max_width": null,
      "min_height": null,
      "min_width": null,
      "object_fit": null,
      "object_position": null,
      "order": null,
      "overflow": null,
      "overflow_x": null,
      "overflow_y": null,
      "padding": null,
      "right": null,
      "top": null,
      "visibility": null,
      "width": "100%"
     }
    },
    "9e8d11e1ea6a4a5193453954833cdac9": {
     "model_module": "@jupyter-widgets/controls",
     "model_module_version": "1.5.0",
     "model_name": "DescriptionStyleModel",
     "state": {
      "_model_module": "@jupyter-widgets/controls",
      "_model_module_version": "1.5.0",
      "_model_name": "DescriptionStyleModel",
      "_view_count": null,
      "_view_module": "@jupyter-widgets/base",
      "_view_module_version": "1.2.0",
      "_view_name": "StyleView",
      "description_width": ""
     }
    },
    "b34eac9fa6d547d5854f3c7927e0c8ad": {
     "model_module": "@jupyter-widgets/base",
     "model_module_version": "1.2.0",
     "model_name": "LayoutModel",
     "state": {
      "_model_module": "@jupyter-widgets/base",
      "_model_module_version": "1.2.0",
      "_model_name": "LayoutModel",
      "_view_count": null,
      "_view_module": "@jupyter-widgets/base",
      "_view_module_version": "1.2.0",
      "_view_name": "LayoutView",
      "align_content": null,
      "align_items": null,
      "align_self": null,
      "border": null,
      "bottom": null,
      "display": null,
      "flex": null,
      "flex_flow": null,
      "grid_area": null,
      "grid_auto_columns": null,
      "grid_auto_flow": null,
      "grid_auto_rows": null,
      "grid_column": null,
      "grid_gap": null,
      "grid_row": null,
      "grid_template_areas": null,
      "grid_template_columns": null,
      "grid_template_rows": null,
      "height": null,
      "justify_content": null,
      "justify_items": null,
      "left": null,
      "margin": null,
      "max_height": null,
      "max_width": null,
      "min_height": null,
      "min_width": null,
      "object_fit": null,
      "object_position": null,
      "order": null,
      "overflow": null,
      "overflow_x": null,
      "overflow_y": null,
      "padding": null,
      "right": null,
      "top": null,
      "visibility": null,
      "width": null
     }
    },
    "ca313301dd0241d2abfe1e76788761b3": {
     "model_module": "@jupyter-widgets/controls",
     "model_module_version": "1.5.0",
     "model_name": "HTMLModel",
     "state": {
      "_dom_classes": [],
      "_model_module": "@jupyter-widgets/controls",
      "_model_module_version": "1.5.0",
      "_model_name": "HTMLModel",
      "_view_count": null,
      "_view_module": "@jupyter-widgets/controls",
      "_view_module_version": "1.5.0",
      "_view_name": "HTMLView",
      "description": "",
      "description_tooltip": null,
      "layout": "IPY_MODEL_b34eac9fa6d547d5854f3c7927e0c8ad",
      "placeholder": "​",
      "style": "IPY_MODEL_9e8d11e1ea6a4a5193453954833cdac9",
      "value": "Sanity Checking: "
     }
    },
    "eac85fca2f154f4b9a53c03a275495e6": {
     "model_module": "@jupyter-widgets/controls",
     "model_module_version": "1.5.0",
     "model_name": "DescriptionStyleModel",
     "state": {
      "_model_module": "@jupyter-widgets/controls",
      "_model_module_version": "1.5.0",
      "_model_name": "DescriptionStyleModel",
      "_view_count": null,
      "_view_module": "@jupyter-widgets/base",
      "_view_module_version": "1.2.0",
      "_view_name": "StyleView",
      "description_width": ""
     }
    }
   }
  }
 },
 "nbformat": 4,
 "nbformat_minor": 1
}
